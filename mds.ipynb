{
 "cells": [
  {
   "cell_type": "code",
   "execution_count": 1,
   "metadata": {
    "collapsed": true
   },
   "outputs": [],
   "source": [
    "import numpy as np"
   ]
  },
  {
   "cell_type": "code",
   "execution_count": 2,
   "metadata": {
    "collapsed": true
   },
   "outputs": [],
   "source": [
    "def centralize(D):\n",
    "    \"\"\"\n",
    "    D is the euclidean distance matrix\n",
    "    \"\"\"\n",
    "    J = centring_matrix(len(D))\n",
    "    return -0.5 * J * D * J\n",
    "\n",
    "\n",
    "def centring_matrix(n):\n",
    "    e = np.ones(shape=(n, n))\n",
    "    I = np.eye(n)\n",
    "    return I - e / n\n",
    "\n",
    "\n",
    "def random_symmetric_maxtirx(n, scale=1):\n",
    "    a = np.random.randn(n, n) * scale\n",
    "    return (a + a.T) / 2"
   ]
  },
  {
   "cell_type": "code",
   "execution_count": 3,
   "metadata": {},
   "outputs": [
    {
     "name": "stdout",
     "output_type": "stream",
     "text": [
      "norm(b) =  2124.32106154\n",
      "mean(b) =  31.5979769998\n",
      "norm(b) =  1.84354848559e-05\n",
      "mean(b) =  -4.71400569888e-08\n"
     ]
    },
    {
     "data": {
      "text/plain": [
       "[<matplotlib.lines.Line2D at 0x1e75efe55c0>]"
      ]
     },
     "execution_count": 3,
     "metadata": {},
     "output_type": "execute_result"
    },
    {
     "data": {
      "image/png": "[encoded data removed]",
      "text/plain": [
       "<matplotlib.figure.Figure at 0x1e75ebe8048>"
      ]
     },
     "metadata": {},
     "output_type": "display_data"
    }
   ],
   "source": [
    "import matplotlib.pyplot as plt\n",
    "%matplotlib inline\n",
    "\n",
    "n_times = 20\n",
    "size = 10\n",
    "b = random_symmetric_maxtirx(size, 300)\n",
    "\n",
    "means = []\n",
    "\n",
    "print(\"norm(b) = \", np.linalg.norm(b))\n",
    "print(\"mean(b) = \", np.mean(b))\n",
    "\n",
    "for _ in range(n_times):\n",
    "    b = centralize(b)\n",
    "    means.append(np.mean(b))\n",
    "    \n",
    "print(\"norm(b) = \", np.linalg.norm(b))\n",
    "print(\"mean(b) = \", np.mean(b))\n",
    "\n",
    "plt.plot(means)"
   ]
  },
  {
   "cell_type": "code",
   "execution_count": null,
   "metadata": {
    "collapsed": true
   },
   "outputs": [],
   "source": []
  }
 ],
 "metadata": {
  "kernelspec": {
   "display_name": "Python 3",
   "language": "python",
   "name": "python3"
  },
  "language_info": {
   "codemirror_mode": {
    "name": "ipython",
    "version": 3
   },
   "file_extension": ".py",
   "mimetype": "text/x-python",
   "name": "python",
   "nbconvert_exporter": "python",
   "pygments_lexer": "ipython3",
   "version": "3.5.3"
  }
 },
 "nbformat": 4,
 "nbformat_minor": 2
}
